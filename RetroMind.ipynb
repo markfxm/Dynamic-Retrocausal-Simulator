{
 "cells": [
  {
   "cell_type": "markdown",
   "metadata": {},
   "source": [
    "Temporal Innovator "
   ]
  },
  {
   "cell_type": "code",
   "execution_count": null,
   "metadata": {},
   "outputs": [],
   "source": [
    "#%pip install mesa\n",
    "#pip install ipykernel\n",
    "#pip install ipywidgets --upgrade"
   ]
  },
  {
   "cell_type": "code",
   "execution_count": 2,
   "metadata": {},
   "outputs": [],
   "source": [
    "from mesa import Agent, Model\n",
    "from mesa.space import MultiGrid\n",
    "import random"
   ]
  },
  {
   "cell_type": "markdown",
   "metadata": {},
   "source": [
    "Initial setup:"
   ]
  },
  {
   "cell_type": "code",
   "execution_count": 4,
   "metadata": {},
   "outputs": [
    {
     "name": "stdout",
     "output_type": "stream",
     "text": [
      "Initial Place:\n",
      "Agent 1 at position (0, 0)\n",
      "Agent 2 at position (0, 0)\n",
      "Agent 3 at position (0, 0)\n",
      "Step 1:\n",
      "Agent 1 at position (0, 0)\n",
      "Agent 2 at position (0, 1)\n",
      "Agent 3 at position (1, 0)\n",
      "Step 2:\n",
      "Agent 1 at position (0, 0)\n",
      "Agent 2 at position (1, 1)\n",
      "Agent 3 at position (2, 0)\n",
      "Step 3:\n",
      "Agent 1 at position (1, 0)\n",
      "Agent 2 at position (0, 1)\n",
      "Agent 3 at position (3, 0)\n",
      "Step 4:\n",
      "Agent 1 at position (2, 0)\n",
      "Agent 2 at position (0, 2)\n",
      "Agent 3 at position (3, 1)\n",
      "Step 5:\n",
      "Agent 1 at position (1, 0)\n",
      "Agent 2 at position (1, 2)\n",
      "Agent 3 at position (3, 0)\n"
     ]
    }
   ],
   "source": [
    "class TimeAgent(Agent):\n",
    "    def __init__(self, model):\n",
    "        super().__init__(model) # Mesa 3: only model is passed\n",
    "        self.model = model  # Explicitly store model reference if needed\n",
    "\n",
    "    def step(self):\n",
    "        # For Steps 1-5, ensure no collisions (step_count 0-4 internally)\n",
    "        if self.model.step_count < 5:\n",
    "            attempts = 0\n",
    "            max_attempts = 10  # Prevent infinite loops\n",
    "            while attempts < max_attempts:\n",
    "                x, y = self.pos\n",
    "                move = random.choice([(0, 1), (0, -1), (1, 0), (-1, 0)]) # Move randomly: up, down, left, right\n",
    "                new_pos = (x + move[0], y + move[1])\n",
    "                if (0 <= new_pos[0] < self.model.grid.width) and (0 <= new_pos[1] < self.model.grid.height):\n",
    "                    if new_pos not in self.model.occupied_positions or new_pos == self.pos:\n",
    "                        self.model.grid.move_agent(self, new_pos)\n",
    "                        self.model.occupied_positions.discard(self.pos)\n",
    "                        self.model.occupied_positions.add(new_pos)\n",
    "                        break\n",
    "                attempts += 1\n",
    "        else:\n",
    "            # After Step 5, allow normal movement\n",
    "            x, y = self.pos\n",
    "            move = random.choice([(0, 1), (0, -1), (1, 0), (-1, 0)])\n",
    "            new_pos = (x + move[0], y + move[1])\n",
    "            if (0 <= new_pos[0] < self.model.grid.width) and (0 <= new_pos[1] < self.model.grid.height):\n",
    "                self.model.grid.move_agent(self, new_pos)\n",
    "\n",
    "          \n",
    "class TimeModel(Model):\n",
    "    def __init__(self):\n",
    "        super().__init__()\n",
    "        self.grid = MultiGrid(10, 10, False)  # 10x10 grid, torus disabled\n",
    "        self.schedule = []  # Manual agent list\n",
    "        self.random = random.Random()\n",
    "        self.step_count = 0  # Track step number\n",
    "        self.occupied_positions = set()  # Track occupied positions\n",
    "        \n",
    "        # Create 3 agents, all starting at (0, 0)\n",
    "        for _ in range(3):\n",
    "            agent = TimeAgent(self)\n",
    "            self.grid.place_agent(agent, (0, 0))  # Explicitly start at (0, 0)\n",
    "            self.schedule.append(agent)\n",
    "        self.occupied_positions.add((0, 0))  # Initially, only (0, 0) is occupied    \n",
    "\n",
    "    def step(self):\n",
    "        # Reset occupied positions for this step\n",
    "        self.occupied_positions.clear()\n",
    "        for agent in self.schedule:\n",
    "            self.occupied_positions.add(agent.pos)\n",
    "        \n",
    "        random.shuffle(self.schedule)  # Random activation\n",
    "        for agent in self.schedule:\n",
    "            agent.step()\n",
    "        self.step_count += 1  # Increment before printing    \n",
    "        self.print_positions()\n",
    "        \n",
    "\n",
    "    # Print current positions of all agents\n",
    "    def print_positions(self):\n",
    "        print(f\"Step {self.step_count}:\")\n",
    "        # Sort agents by unique_id for consistent print order\n",
    "        sorted_agents = sorted(self.schedule, key=lambda a: a.unique_id)\n",
    "        for agent in sorted_agents:\n",
    "            print(f\"Agent {agent.unique_id} at position {agent.pos}\")\n",
    "\n",
    "# Run the model\n",
    "model = TimeModel()\n",
    "# Print initial state as Step 0\n",
    "print(\"Initial Place:\")\n",
    "sorted_agents = sorted(model.schedule, key=lambda a: a.unique_id)\n",
    "for agent in sorted_agents:\n",
    "    print(f\"Agent {agent.unique_id} at position {agent.pos}\")\n",
    "# Run 5 additional steps (labeled 1 to 5)\n",
    "for _ in range(5):\n",
    "    model.step()\n"
   ]
  }
 ],
 "metadata": {
  "kernelspec": {
   "display_name": "Python 3",
   "language": "python",
   "name": "python3"
  },
  "language_info": {
   "codemirror_mode": {
    "name": "ipython",
    "version": 3
   },
   "file_extension": ".py",
   "mimetype": "text/x-python",
   "name": "python",
   "nbconvert_exporter": "python",
   "pygments_lexer": "ipython3",
   "version": "3.13.2"
  }
 },
 "nbformat": 4,
 "nbformat_minor": 2
}
