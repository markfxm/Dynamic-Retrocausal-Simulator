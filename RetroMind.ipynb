{
 "cells": [
  {
   "cell_type": "markdown",
   "metadata": {},
   "source": [
    "Temporal Innovator:\n",
    "- Retrocausality project"
   ]
  },
  {
   "cell_type": "code",
   "execution_count": null,
   "metadata": {},
   "outputs": [],
   "source": [
    "#%pip install mesa\n",
    "#pip install ipykernel\n",
    "#pip install ipywidgets --upgrade"
   ]
  },
  {
   "cell_type": "code",
   "execution_count": 1,
   "metadata": {},
   "outputs": [],
   "source": [
    "from mesa import Agent, Model\n",
    "from mesa.space import MultiGrid\n",
    "import random"
   ]
  },
  {
   "cell_type": "markdown",
   "metadata": {},
   "source": [
    "Initial setup:"
   ]
  },
  {
   "cell_type": "code",
   "execution_count": 9,
   "metadata": {},
   "outputs": [
    {
     "name": "stdout",
     "output_type": "stream",
     "text": [
      "Agent 1: [(8, 3), (7, 3), (7, 4), (6, 4), (7, 4), (6, 4)]\n",
      "Agent 2: [(0, 1), (0, 2), (0, 3), (1, 3), (1, 4), (2, 4)]\n",
      "Agent 3: [(5, 5), (5, 4), (5, 5), (6, 5), (6, 6), (6, 7)]\n",
      "Agent 4: [(5, 3), (5, 2), (5, 1), (5, 2), (5, 3), (6, 3)]\n",
      "Agent 5: [(7, 6), (7, 7), (8, 7), (7, 7), (8, 7), (9, 7)]\n"
     ]
    }
   ],
   "source": [
    "class TimeAgent(Agent):\n",
    "    def __init__(self, model):\n",
    "        super().__init__(model) # Mesa 3: only model is passed\n",
    "        self.model = model  # Explicitly store model reference if needed\n",
    "        self.positions = [] # Will be populated with initial position in TimeModel\n",
    "\n",
    "    def step(self):\n",
    "        attempts = 0\n",
    "        max_attempts = 10  # Prevent infinite loops\n",
    "        while attempts < max_attempts:\n",
    "            x, y = self.pos\n",
    "            move = random.choice([(0, 1), (0, -1), (1, 0), (-1, 0)]) # Move randomly: up, down, left, right\n",
    "            new_pos = (x + move[0], y + move[1])\n",
    "            if (0 <= new_pos[0] < self.model.grid.width) and (0 <= new_pos[1] < self.model.grid.height):\n",
    "                if new_pos not in self.model.occupied_positions or new_pos == self.pos:\n",
    "                    self.model.grid.move_agent(self, new_pos)\n",
    "                    self.model.occupied_positions.discard(self.pos) # Remove old position\n",
    "                    self.model.occupied_positions.add(new_pos) # Add new position\n",
    "                    self.positions.append(new_pos) # Record new position\n",
    "                    break\n",
    "            attempts += 1\n",
    "        # If no valid move is found after max_attempts, agent stays put (position unchanged)\n",
    "\n",
    "          \n",
    "class TimeModel(Model):\n",
    "    def __init__(self):\n",
    "        super().__init__()\n",
    "        self.grid = MultiGrid(10, 10, False)  # 10x10 grid, torus disabled\n",
    "        self.schedule = []  # Manual agent list\n",
    "        self.random = random.Random()\n",
    "        self.step_count = 0  # Track step number\n",
    "        self.occupied_positions = set()  # Track occupied positions\n",
    "        \n",
    "        # Create 5 agents with unique random starting positions\n",
    "        available_positions = [(x, y) for x in range(10) for y in range(10)]  # All 10x10 positions\n",
    "        self.random.shuffle(available_positions)  # Randomize order\n",
    "        for i in range(5):\n",
    "            agent = TimeAgent(self)\n",
    "            start_pos = available_positions[i]  # Take a unique position\n",
    "            self.grid.place_agent(agent, start_pos)\n",
    "            agent.positions.append(start_pos)  # Record initial position\n",
    "            self.occupied_positions.add(start_pos)\n",
    "            self.schedule.append(agent)    \n",
    "\n",
    "    def step(self):\n",
    "        # Reset occupied positions for this step (will be rebuilt)\n",
    "        self.occupied_positions.clear()\n",
    "        for agent in self.schedule:\n",
    "            self.occupied_positions.add(agent.pos)\n",
    "        \n",
    "        random.shuffle(self.schedule)  # Random activation\n",
    "        for agent in self.schedule:\n",
    "            agent.step()\n",
    "        self.step_count += 1  # Increment before printing    \n",
    "        # self.print_positions()\n",
    "        \n",
    "\n",
    "    # Print history positions of all agents\n",
    "    def print_positions(self):\n",
    "        sorted_agents = sorted(self.schedule, key=lambda a: a.unique_id)\n",
    "        for agent in sorted_agents:\n",
    "            print(f\"Agent {agent.unique_id}: {agent.positions}\")\n",
    "\n",
    "\n",
    "model = TimeModel()\n",
    "\n",
    "for _ in range(5):\n",
    "    model.step()\n",
    "model.print_positions()"
   ]
  },
  {
   "cell_type": "code",
   "execution_count": null,
   "metadata": {},
   "outputs": [],
   "source": []
  }
 ],
 "metadata": {
  "kernelspec": {
   "display_name": "Python 3",
   "language": "python",
   "name": "python3"
  },
  "language_info": {
   "codemirror_mode": {
    "name": "ipython",
    "version": 3
   },
   "file_extension": ".py",
   "mimetype": "text/x-python",
   "name": "python",
   "nbconvert_exporter": "python",
   "pygments_lexer": "ipython3",
   "version": "3.13.2"
  }
 },
 "nbformat": 4,
 "nbformat_minor": 2
}
