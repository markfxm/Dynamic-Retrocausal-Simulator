{
 "cells": [
  {
   "cell_type": "markdown",
   "metadata": {},
   "source": [
    "Temporal Innovator "
   ]
  },
  {
   "cell_type": "code",
   "execution_count": null,
   "metadata": {},
   "outputs": [],
   "source": [
    "#%pip install mesa\n",
    "#pip install ipykernel\n",
    "#pip install ipywidgets --upgrade"
   ]
  },
  {
   "cell_type": "code",
   "execution_count": 3,
   "metadata": {},
   "outputs": [],
   "source": [
    "from mesa import Agent, Model\n",
    "from mesa.space import MultiGrid\n",
    "import random"
   ]
  },
  {
   "cell_type": "code",
   "execution_count": 9,
   "metadata": {},
   "outputs": [],
   "source": [
    "class TimeAgent(Agent):\n",
    "    def __init__(self, model):\n",
    "        super().__init__(model)\n",
    "        # self.pos will be set by place_agent()\n",
    "\n",
    "    def step(self):\n",
    "        # Move randomly: up, down, left, right\n",
    "        x, y = self.pos  # Now safe after place_agent()\n",
    "        move = random.choice([(0, 1), (0, -1), (1, 0), (-1, 0)])\n",
    "        new_pos = (x + move[0], y + move[1])\n",
    "        self.model.grid.move_agent(self, new_pos)\n",
    "\n",
    "class TimeModel(Model):\n",
    "    def __init__(self):\n",
    "        super().__init__()\n",
    "        self.grid = MultiGrid(10, 10, True)\n",
    "        self.schedule = []  # Manual agent list\n",
    "        self.random = random.Random()\n",
    "        for i in range(3):  # 3 agents\n",
    "            agent = TimeAgent(self)\n",
    "            self.grid.place_agent(agent, (0, 0))  # Explicitly place at (0, 0)\n",
    "            self.schedule.append(agent)\n",
    "\n",
    "    def step(self):\n",
    "        random.shuffle(self.schedule)  # Random activation\n",
    "        for agent in self.schedule:\n",
    "            agent.step()\n",
    "\n",
    "# Run the model\n",
    "model = TimeModel()\n",
    "for _ in range(5):  # Run 5 steps\n",
    "    model.step()"
   ]
  }
 ],
 "metadata": {
  "kernelspec": {
   "display_name": "Python 3",
   "language": "python",
   "name": "python3"
  },
  "language_info": {
   "codemirror_mode": {
    "name": "ipython",
    "version": 3
   },
   "file_extension": ".py",
   "mimetype": "text/x-python",
   "name": "python",
   "nbconvert_exporter": "python",
   "pygments_lexer": "ipython3",
   "version": "3.13.2"
  }
 },
 "nbformat": 4,
 "nbformat_minor": 2
}
